{
  "nbformat": 4,
  "nbformat_minor": 0,
  "metadata": {
    "colab": {
      "name": "기시설팀프용.ipynb",
      "provenance": [],
      "collapsed_sections": [],
      "include_colab_link": true
    },
    "kernelspec": {
      "name": "python3",
      "display_name": "Python 3"
    }
  },
  "cells": [
    {
      "cell_type": "markdown",
      "metadata": {
        "id": "view-in-github",
        "colab_type": "text"
      },
      "source": [
        "<a href=\"https://colab.research.google.com/github/kwonsoonhyeok/MachineSystemDesign/blob/master/TeamProject_Suspension_Spring.ipynb\" target=\"_parent\"><img src=\"https://colab.research.google.com/assets/colab-badge.svg\" alt=\"Open In Colab\"/></a>"
      ]
    },
    {
      "cell_type": "code",
      "metadata": {
        "id": "yMUW0UUnBx8C",
        "colab_type": "code",
        "colab": {}
      },
      "source": [
        "# Input\n",
        "D = 80. ; d = 10. ;  pitch = 32. ; Lf = 280. #[mm]\n",
        "P = 3675.  #[N]\n",
        "G = 76923. #[MPa]"
      ],
      "execution_count": 0,
      "outputs": []
    },
    {
      "cell_type": "code",
      "metadata": {
        "id": "8W4muq1GdOBa",
        "colab_type": "code",
        "colab": {}
      },
      "source": [
        "def TAUnDE(D,d,pitch,Lf,P):\n",
        "  T = P*D/2 ; C = D/d \n",
        "  Tau_trans = P/(3.14*(d**2)*4)\n",
        "  Tau_tor = (8*D*P)/(3.14*(d**3))*(((4*C-1)/(4*C-4))+(0.615/C))\n",
        "  Tau = Tau_trans + Tau_tor\n",
        "  \n",
        "  Na = Lf/pitch\n",
        "  delta = (8*Na*(D**3)*P)/(G*(d**4))\n",
        "  return Tau,delta"
      ],
      "execution_count": 0,
      "outputs": []
    },
    {
      "cell_type": "code",
      "metadata": {
        "id": "l_lF507AdToM",
        "colab_type": "code",
        "outputId": "45ac4edc-5a3a-4744-9544-8644b8ee1f60",
        "colab": {
          "base_uri": "https://localhost:8080/",
          "height": 35
        }
      },
      "source": [
        "# 전단응력 n 처짐량\n",
        "print(TAUnDE(D,d,pitch,Lf,P))"
      ],
      "execution_count": 0,
      "outputs": [
        {
          "output_type": "stream",
          "text": [
            "(889.8081210191083, 171.22577122577124)\n"
          ],
          "name": "stdout"
        }
      ]
    },
    {
      "cell_type": "code",
      "metadata": {
        "id": "tim3nYDfefBe",
        "colab_type": "code",
        "colab": {}
      },
      "source": [
        "def TAUnDEbyP(P):\n",
        "  #=========================GIVEN=========================\n",
        "  D = 80. ; d = 10. ;  pitch = 32. ; Lf = 280.    #[mm] \n",
        "  G = 76923.    #[MPa]\n",
        "  #=======================================================\n",
        "  \n",
        "  C = D/d ; T = P*D/2\n",
        "  \n",
        "  Tau_trans = P/(3.14*(d**2)*4)\n",
        "  Tau_tor = (8*D*P)/(3.14*(d**3))*(((4*C-1)/(4*C-4))+(0.615/C))\n",
        "  Tau = Tau_trans + Tau_tor\n",
        "\n",
        "  Na = Lf/pitch\n",
        "  delta = (8*Na*(D**3)*P)/(G*(d**4))\n",
        "\n",
        "  return Tau,delta"
      ],
      "execution_count": 0,
      "outputs": []
    },
    {
      "cell_type": "code",
      "metadata": {
        "id": "ISe0rbkC-UhY",
        "colab_type": "code",
        "outputId": "8e08d2bb-e4e3-46fe-c856-a1f8368d70cd",
        "colab": {
          "base_uri": "https://localhost:8080/",
          "height": 197
        }
      },
      "source": [
        "for i in range(1000,10001,1000):\n",
        "  print(TAUnDEbyP(i))"
      ],
      "execution_count": 0,
      "outputs": [
        {
          "output_type": "stream",
          "text": [
            "(242.12465878070975, 46.59204659204659)\n",
            "(484.2493175614195, 93.18409318409319)\n",
            "(726.3739763421294, 139.7761397761398)\n",
            "(968.498635122839, 186.36818636818637)\n",
            "(1210.6232939035488, 232.96023296023296)\n",
            "(1452.7479526842587, 279.5522795522796)\n",
            "(1694.8726114649685, 326.14432614432616)\n",
            "(1936.997270245678, 372.73637273637274)\n",
            "(2179.1219290263875, 419.32841932841933)\n",
            "(2421.2465878070975, 465.9204659204659)\n"
          ],
          "name": "stdout"
        }
      ]
    },
    {
      "cell_type": "code",
      "metadata": {
        "id": "v43RfhJIGq2o",
        "colab_type": "code",
        "colab": {}
      },
      "source": [
        "def TAUnDEbyDnd(D,d):\n",
        "  #=========================GIVEN=========================\n",
        "  pitch = 32. ; Lf = 280.    #[mm] ;\n",
        "  P = 3675.    #[N]\n",
        "  G = 76923.   #[MPa]\n",
        "  #=======================================================\n",
        "  \n",
        "  C = D/d ; T = P*D/2.\n",
        "  \n",
        "  Tau_trans = P/(3.14*(d**2.)*4.)\n",
        "  Tau_tor = (8.*D*P)/(3.14*(d**3.))*(((4.*C-1.)/(4.*C-4.))+(0.615/C))\n",
        "  Tau = Tau_trans + Tau_tor\n",
        "\n",
        "  Na = Lf/pitch\n",
        "  delta = (8.*Na*(D**3.)*P)/(G*(d**4.))\n",
        "\n",
        "  return Tau,delta"
      ],
      "execution_count": 0,
      "outputs": []
    },
    {
      "cell_type": "code",
      "metadata": {
        "id": "UXhNsHROLE5G",
        "colab_type": "code",
        "outputId": "be963b64-99f9-42d7-ac54-3a1871b9930b",
        "colab": {
          "base_uri": "https://localhost:8080/",
          "height": 197
        }
      },
      "source": [
        "for i in range(60,106,5):\n",
        "  print(TAUnDEbyDnd(i,10))"
      ],
      "execution_count": 0,
      "outputs": [
        {
          "output_type": "stream",
          "text": [
            "(706.5597133757962, 72.23587223587224)\n",
            "(752.0982194557035, 91.84155746655746)\n",
            "(797.8495222929937, 114.7078897078897)\n",
            "(843.7645149436551, 141.08568796068795)\n",
            "(889.8081210191083, 171.22577122577124)\n",
            "(935.9546178343949, 205.3789585039585)\n",
            "(982.1847133757963, 243.7960687960688)\n",
            "(1028.483654926939, 286.72792110292113)\n",
            "(1074.839968152866, 334.4253344253344)\n",
            "(1121.244594368086, 387.13912776412775)\n"
          ],
          "name": "stdout"
        }
      ]
    },
    {
      "cell_type": "code",
      "metadata": {
        "id": "EzZi1s01gvAM",
        "colab_type": "code",
        "outputId": "c5f5c311-47af-4410-fb03-0b6d6959cc0c",
        "colab": {
          "base_uri": "https://localhost:8080/",
          "height": 197
        }
      },
      "source": [
        "for j in range(90,110,2):\n",
        "  print(TAUnDEbyDnd(80.,j/10))"
      ],
      "execution_count": 0,
      "outputs": [
        {
          "output_type": "stream",
          "text": [
            "(1199.8826521816015, 260.97511236971684)\n",
            "(1127.168713616349, 239.01096295777572)\n",
            "(1060.3637682681217, 219.3096372818367)\n",
            "(998.8740441084815, 201.59706212946955)\n",
            "(942.1762798150885, 185.63712262766222)\n",
            "(889.8081210191083, 171.22577122577124)\n",
            "(841.3599852513934, 158.18614556479113)\n",
            "(796.4681473897275, 146.36450685608625)\n",
            "(754.8088431859965, 135.6268483709764)\n",
            "(716.0932251053557, 125.85605341903779)\n"
          ],
          "name": "stdout"
        }
      ]
    }
  ]
}